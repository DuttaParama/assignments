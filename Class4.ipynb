{
 "cells": [
  {
   "cell_type": "markdown",
   "id": "656a20e5",
   "metadata": {},
   "source": [
    "# class 4"
   ]
  },
  {
   "cell_type": "code",
   "execution_count": 1,
   "id": "f27ae179",
   "metadata": {},
   "outputs": [],
   "source": [
    "a=10"
   ]
  },
  {
   "cell_type": "code",
   "execution_count": 2,
   "id": "469cb11b",
   "metadata": {},
   "outputs": [],
   "source": [
    "if a < 15 :\n",
    "    pass"
   ]
  },
  {
   "cell_type": "code",
   "execution_count": 3,
   "id": "48186c03",
   "metadata": {},
   "outputs": [
    {
     "data": {
      "text/plain": [
       "True"
      ]
     },
     "execution_count": 3,
     "metadata": {},
     "output_type": "execute_result"
    }
   ],
   "source": [
    "a<15"
   ]
  },
  {
   "cell_type": "code",
   "execution_count": 4,
   "id": "d9c9a8a4",
   "metadata": {},
   "outputs": [
    {
     "name": "stdout",
     "output_type": "stream",
     "text": [
      "my name is PD\n"
     ]
    }
   ],
   "source": [
    "if a < 15:\n",
    "    print('my name is PD')"
   ]
  },
  {
   "cell_type": "code",
   "execution_count": 5,
   "id": "fa087d4c",
   "metadata": {},
   "outputs": [],
   "source": [
    "if 24 < 15:\n",
    "    print('my name is PD')"
   ]
  },
  {
   "cell_type": "code",
   "execution_count": 6,
   "id": "1a1af451",
   "metadata": {},
   "outputs": [
    {
     "data": {
      "text/plain": [
       "False"
      ]
     },
     "execution_count": 6,
     "metadata": {},
     "output_type": "execute_result"
    }
   ],
   "source": [
    "24<15"
   ]
  },
  {
   "cell_type": "code",
   "execution_count": 7,
   "id": "e9bb48ae",
   "metadata": {},
   "outputs": [
    {
     "name": "stdout",
     "output_type": "stream",
     "text": [
      "statement is wrong\n"
     ]
    }
   ],
   "source": [
    "if 10<3:\n",
    "    print('10 is less than 3')\n",
    "else:\n",
    "    print('statement is wrong')"
   ]
  },
  {
   "cell_type": "code",
   "execution_count": 8,
   "id": "52979eb0",
   "metadata": {},
   "outputs": [
    {
     "name": "stdout",
     "output_type": "stream",
     "text": [
      "i wont be able to buy anything\n"
     ]
    }
   ],
   "source": [
    "income = 100\n",
    "if income < 50:\n",
    "    print('i will be able to buy a phone')\n",
    "elif income < 70:\n",
    "    print ('i will be able to buy a car')\n",
    "elif income <90:\n",
    "    print ('i will be able to rent a house')\n",
    "else:\n",
    "    print ('i wont be able to buy anything')"
   ]
  },
  {
   "cell_type": "code",
   "execution_count": 9,
   "id": "09df5ae8",
   "metadata": {},
   "outputs": [
    {
     "name": "stdout",
     "output_type": "stream",
     "text": [
      "89\n",
      "i will be able to rent a house\n"
     ]
    }
   ],
   "source": [
    "income = int(input())\n",
    "if income < 50:\n",
    "    print('i will be able to buy a phone')\n",
    "elif income < 70:\n",
    "    print ('i will be able to buy a car')\n",
    "elif income <90:\n",
    "    print ('i will be able to rent a house')\n",
    "else:\n",
    "    print ('i wont be able to buy anything')"
   ]
  },
  {
   "cell_type": "code",
   "execution_count": 10,
   "id": "4ba8a2df",
   "metadata": {},
   "outputs": [
    {
     "name": "stdout",
     "output_type": "stream",
     "text": [
      "6789\n",
      "discount will be 339.45000000000005\n"
     ]
    }
   ],
   "source": [
    "Total_price = int(input())\n",
    "if Total_price > 20000 :\n",
    "    discount = Total_price * .20\n",
    "    print('discount will be' , discount)\n",
    "elif Total_price <= 7000:\n",
    "    discount = Total_price *.05\n",
    "    print('discount will be' , discount)\n",
    "else :\n",
    "    print('wont be able to give any discount')"
   ]
  },
  {
   "cell_type": "code",
   "execution_count": 11,
   "id": "ec2f6913",
   "metadata": {},
   "outputs": [
    {
     "name": "stdout",
     "output_type": "stream",
     "text": [
      "70000\n",
      "discount is 14000.0\n"
     ]
    }
   ],
   "source": [
    "Total_price = int(input())\n",
    "if Total_price > 20000 :\n",
    "    discount = Total_price * .20\n",
    "    print('discount is' , discount)\n",
    "elif Total_price <= 7000:\n",
    "    discount = Total_price *.05\n",
    "    print(' No discount')"
   ]
  },
  {
   "cell_type": "code",
   "execution_count": 12,
   "id": "8494cb6b",
   "metadata": {},
   "outputs": [
    {
     "name": "stdout",
     "output_type": "stream",
     "text": [
      "you will be able to get a discount of 5%\n",
      " you will be get one neuron with this amount 6726.0\n"
     ]
    }
   ],
   "source": [
    "coup = \"SUDHANSHU5\"\n",
    "if coup == \"SUDHANSHU5\":\n",
    "    print('you will be able to get a discount of 5%')\n",
    "    paid_amount = 7080-7080*.05\n",
    "    print ( ' you will be get one neuron with this amount', paid_amount)\n",
    "else:\n",
    "    print( 'Please use a valid coupne code')"
   ]
  },
  {
   "cell_type": "code",
   "execution_count": 13,
   "id": "1115c105",
   "metadata": {},
   "outputs": [
    {
     "name": "stdout",
     "output_type": "stream",
     "text": [
      "SUDHANSHU5\n",
      "you will be able to get a discount of 5%\n",
      " you will be get one neuron with this amount 6726.0\n"
     ]
    }
   ],
   "source": [
    "coup = input()\n",
    "if coup == \"SUDHANSHU5\":\n",
    "    print('you will be able to get a discount of 5%')\n",
    "    paid_amount = 7080-7080*.05\n",
    "    print ( ' you will be get one neuron with this amount', paid_amount)\n",
    "else:\n",
    "    print( 'Please use a valid coupne code')"
   ]
  },
  {
   "cell_type": "code",
   "execution_count": 14,
   "id": "60538b26",
   "metadata": {},
   "outputs": [
    {
     "name": "stdout",
     "output_type": "stream",
     "text": [
      "6\n",
      "it will be difficult\n"
     ]
    }
   ],
   "source": [
    "study_hour = int(input())\n",
    "if study_hour < 1:\n",
    "    print('it may take 8 to 9 months to make a transition')\n",
    "elif study_hour < 4 and study_hour >1:\n",
    "    print('it may take 6 months to make a transition')\n",
    "elif study_hour >10 :\n",
    "    print('it may take 3 months to make a transition')\n",
    "else:\n",
    "    print('it will be difficult')"
   ]
  },
  {
   "cell_type": "code",
   "execution_count": 15,
   "id": "dc5a2c60",
   "metadata": {},
   "outputs": [
    {
     "name": "stdout",
     "output_type": "stream",
     "text": [
      "3\n",
      "succeed\n"
     ]
    }
   ],
   "source": [
    "study = float(input())\n",
    "if study < 1 and study > 0.5:\n",
    "    print('you may succeed')\n",
    "elif study <6 and study >1:\n",
    "    print('succeed')\n",
    "else:\n",
    "    print('fail')"
   ]
  },
  {
   "cell_type": "code",
   "execution_count": 16,
   "id": "a04d1251",
   "metadata": {},
   "outputs": [
    {
     "name": "stdout",
     "output_type": "stream",
     "text": [
      "valid\n"
     ]
    }
   ],
   "source": [
    "a =9\n",
    "if a==9:\n",
    "    print('valid')"
   ]
  },
  {
   "cell_type": "code",
   "execution_count": 17,
   "id": "f2056335",
   "metadata": {},
   "outputs": [
    {
     "name": "stdout",
     "output_type": "stream",
     "text": [
      "enter starting to startoneneuron\n",
      "enter a course namehhhh\n",
      "enter a servise namemodule\n",
      "this course is not available please rise your demand\n"
     ]
    }
   ],
   "source": [
    "s = input('enter starting to start')\n",
    "course= input('enter a course name')\n",
    "service = input('enter a servise name')\n",
    "if s== 'oneneuron':\n",
    "    if course == 'DSA':\n",
    "        print('yes its available under one neruon and in multiple mode forjob preparation and core concept')\n",
    "    elif course == 'Blockchain':\n",
    "        print('This is not available as of now, Kindly rise your demand we will fulfil in 60 days')\n",
    "    elif course == \"FSDS\":\n",
    "        print('Yes, its available you can start learning')\n",
    "    else:\n",
    "        print( 'this course is not available please rise your demand')\n",
    "elif s == 'oneneuronservice':\n",
    "    if service == 'course request':\n",
    "         print('*NOTE: Dear Learner, You can rise demand to any new course and we will fulfil it within 60 days')\n",
    "    elif service == 'module':\n",
    "        print ('xxxxx')\n",
    "    elif service == 'doubt':\n",
    "        print('aaaaaaaaa')\n",
    "    elif service =='workwith us':\n",
    "        print('hhhhhhhhhhh')\n",
    "    else :\n",
    "        print('nnnnnnnnnn')\n",
    "else:\n",
    "    print('kindly connect our team')\n",
    "    "
   ]
  },
  {
   "cell_type": "markdown",
   "id": "8b0fdccf",
   "metadata": {},
   "source": [
    "# FOR LOOP AND WHILE LOOP"
   ]
  },
  {
   "cell_type": "code",
   "execution_count": 18,
   "id": "3f3acf9d",
   "metadata": {},
   "outputs": [
    {
     "name": "stdout",
     "output_type": "stream",
     "text": [
      "1\n",
      "2\n",
      "3\n",
      "4\n",
      "5\n",
      "6\n",
      "7\n"
     ]
    }
   ],
   "source": [
    "l=[1,2,3,4,5,6,7]\n",
    "for i in l :\n",
    "    print(i)"
   ]
  },
  {
   "cell_type": "code",
   "execution_count": 19,
   "id": "cf914fff",
   "metadata": {},
   "outputs": [
    {
     "name": "stdout",
     "output_type": "stream",
     "text": [
      "s\n",
      "u\n",
      "d\n",
      "h\n"
     ]
    }
   ],
   "source": [
    "for i in 'sudh':\n",
    "    print(i)"
   ]
  },
  {
   "cell_type": "code",
   "execution_count": 20,
   "id": "6bac0281",
   "metadata": {},
   "outputs": [],
   "source": [
    "t=(1,3,2,4,5,6,7,8)"
   ]
  },
  {
   "cell_type": "code",
   "execution_count": 21,
   "id": "25e7176e",
   "metadata": {},
   "outputs": [
    {
     "name": "stdout",
     "output_type": "stream",
     "text": [
      "1\n",
      "3\n",
      "2\n",
      "4\n",
      "5\n",
      "6\n",
      "7\n",
      "8\n"
     ]
    }
   ],
   "source": [
    "for i in t:\n",
    "    print (i)"
   ]
  },
  {
   "cell_type": "code",
   "execution_count": 22,
   "id": "959e77bf",
   "metadata": {},
   "outputs": [],
   "source": [
    "l=[1,3,4.5,'sudh']"
   ]
  },
  {
   "cell_type": "code",
   "execution_count": 24,
   "id": "fcbb01aa",
   "metadata": {},
   "outputs": [
    {
     "name": "stdout",
     "output_type": "stream",
     "text": [
      "<class 'int'> type of 1\n",
      "<class 'int'> type of 3\n",
      "<class 'float'> type of 4.5\n",
      "<class 'str'> type of sudh\n"
     ]
    }
   ],
   "source": [
    "for i in l:\n",
    "    print(type(i),'type of' , i)"
   ]
  },
  {
   "cell_type": "code",
   "execution_count": 25,
   "id": "140e7a0e",
   "metadata": {},
   "outputs": [
    {
     "data": {
      "text/plain": [
       "int"
      ]
     },
     "execution_count": 25,
     "metadata": {},
     "output_type": "execute_result"
    }
   ],
   "source": [
    "type (1)"
   ]
  },
  {
   "cell_type": "code",
   "execution_count": 27,
   "id": "d2408c4f",
   "metadata": {},
   "outputs": [
    {
     "name": "stdout",
     "output_type": "stream",
     "text": [
      "3\n",
      "6.5\n",
      "7\n"
     ]
    }
   ],
   "source": [
    "l=[1,4.5,5]\n",
    "for i in l:\n",
    "    print(i+2)"
   ]
  },
  {
   "cell_type": "code",
   "execution_count": 28,
   "id": "ccbf730b",
   "metadata": {},
   "outputs": [
    {
     "name": "stdout",
     "output_type": "stream",
     "text": [
      "3\n",
      "6.5\n",
      "7\n"
     ]
    }
   ],
   "source": [
    "l=[1,4.5,5]\n",
    "l1=[]\n",
    "for i in l:\n",
    "    print(i+2)\n",
    "    l1.append(i+2)"
   ]
  },
  {
   "cell_type": "code",
   "execution_count": 29,
   "id": "e6b1635b",
   "metadata": {},
   "outputs": [
    {
     "data": {
      "text/plain": [
       "[3, 6.5, 7]"
      ]
     },
     "execution_count": 29,
     "metadata": {},
     "output_type": "execute_result"
    }
   ],
   "source": [
    "l1"
   ]
  },
  {
   "cell_type": "code",
   "execution_count": 42,
   "id": "5cb6ebbe",
   "metadata": {},
   "outputs": [],
   "source": [
    "l=[2,34,55,6,'sudh',6+7j,[44,65,77]]"
   ]
  },
  {
   "cell_type": "code",
   "execution_count": 43,
   "id": "b696600f",
   "metadata": {},
   "outputs": [
    {
     "name": "stdout",
     "output_type": "stream",
     "text": [
      "2\n",
      "34\n",
      "55\n",
      "6\n",
      "44\n",
      "65\n",
      "77\n"
     ]
    }
   ],
   "source": [
    "for i in l:\n",
    "    if type (i)==int:\n",
    "        print(i)\n",
    "    elif type (i)==list:\n",
    "        for j in i:\n",
    "            if type(j)==int:\n",
    "                print(j)"
   ]
  },
  {
   "cell_type": "code",
   "execution_count": 49,
   "id": "ca7dd2e7",
   "metadata": {},
   "outputs": [],
   "source": [
    "l=[2,45,78,'sudh',6+7j,[56,67,78,'hgfhg']]\n",
    "#q1. Try to print all index of all the elements\n",
    "#q2. Try to extract all the list of char if the element is string\n",
    "#q3. Try to return a list after doing a sqare of all the int element."
   ]
  },
  {
   "cell_type": "code",
   "execution_count": 50,
   "id": "ae6e904d",
   "metadata": {},
   "outputs": [
    {
     "data": {
      "text/plain": [
       "range(0, 4)"
      ]
     },
     "execution_count": 50,
     "metadata": {},
     "output_type": "execute_result"
    }
   ],
   "source": [
    "range (4)"
   ]
  },
  {
   "cell_type": "code",
   "execution_count": 51,
   "id": "8c78d940",
   "metadata": {},
   "outputs": [
    {
     "data": {
      "text/plain": [
       "6"
      ]
     },
     "execution_count": 51,
     "metadata": {},
     "output_type": "execute_result"
    }
   ],
   "source": [
    "len(l)"
   ]
  },
  {
   "cell_type": "code",
   "execution_count": 52,
   "id": "08d3602d",
   "metadata": {},
   "outputs": [
    {
     "name": "stdout",
     "output_type": "stream",
     "text": [
      "index 0 for an element 2\n",
      "index 1 for an element 45\n",
      "index 2 for an element 78\n",
      "index 3 for an element sudh\n",
      "index 4 for an element (6+7j)\n",
      "index 5 for an element [56, 67, 78, 'hgfhg']\n"
     ]
    }
   ],
   "source": [
    "for i in range(len(l)):\n",
    "    print ('index',i, 'for an element',l[i])"
   ]
  },
  {
   "cell_type": "code",
   "execution_count": 53,
   "id": "30becb35",
   "metadata": {},
   "outputs": [
    {
     "name": "stdout",
     "output_type": "stream",
     "text": [
      "(0, 2)\n",
      "(1, 45)\n",
      "(2, 78)\n",
      "(3, 'sudh')\n",
      "(4, (6+7j))\n",
      "(5, [56, 67, 78, 'hgfhg'])\n"
     ]
    }
   ],
   "source": [
    "# another method\n",
    "for i in enumerate (l):\n",
    "    print(i)"
   ]
  },
  {
   "cell_type": "code",
   "execution_count": 54,
   "id": "b8eb73a7",
   "metadata": {},
   "outputs": [
    {
     "name": "stdout",
     "output_type": "stream",
     "text": [
      "0 2\n",
      "1 45\n",
      "2 78\n",
      "3 sudh\n",
      "4 (6+7j)\n",
      "5 [56, 67, 78, 'hgfhg']\n"
     ]
    }
   ],
   "source": [
    "# another method\n",
    "for i,j in enumerate (l):\n",
    "    print(i,j)"
   ]
  },
  {
   "cell_type": "code",
   "execution_count": 60,
   "id": "a3dd1a02",
   "metadata": {},
   "outputs": [
    {
     "name": "stdout",
     "output_type": "stream",
     "text": [
      "['s', 'u', 'd', 'h']\n",
      "['k', 'u', 'm', 'a', 'r']\n"
     ]
    }
   ],
   "source": [
    "#q2. Try to extract all the list of char if the element is string\n",
    "l=[2,45,78,'sudh','kumar',6+7j,[56,67,78,'hgfhg']]\n",
    "for i in l:\n",
    "    if type(i)==str:\n",
    "        l1= []\n",
    "        for j in i:\n",
    "            l1.append(j)\n",
    "        print(l1)\n"
   ]
  },
  {
   "cell_type": "code",
   "execution_count": 62,
   "id": "aec647c3",
   "metadata": {},
   "outputs": [
    {
     "name": "stdout",
     "output_type": "stream",
     "text": [
      "[4]\n",
      "[2025]\n",
      "[6084]\n"
     ]
    }
   ],
   "source": [
    "#q3. Try to return a list after doing a sqare of all the int element.\n",
    "l=[2,45,78,'sudh','kumar',6+7j,[56,67,78,'hgfhg']]\n",
    "for i in l:\n",
    "    if type(i)==int:\n",
    "        l2=[]\n",
    "        l2.append(i**2)\n",
    "        print(l2)"
   ]
  },
  {
   "cell_type": "code",
   "execution_count": null,
   "id": "fcb5f443",
   "metadata": {},
   "outputs": [],
   "source": []
  }
 ],
 "metadata": {
  "kernelspec": {
   "display_name": "Python 3 (ipykernel)",
   "language": "python",
   "name": "python3"
  },
  "language_info": {
   "codemirror_mode": {
    "name": "ipython",
    "version": 3
   },
   "file_extension": ".py",
   "mimetype": "text/x-python",
   "name": "python",
   "nbconvert_exporter": "python",
   "pygments_lexer": "ipython3",
   "version": "3.9.7"
  }
 },
 "nbformat": 4,
 "nbformat_minor": 5
}
