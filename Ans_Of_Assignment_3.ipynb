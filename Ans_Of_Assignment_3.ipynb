{
 "cells": [
  {
   "cell_type": "markdown",
   "id": "b1e09166",
   "metadata": {},
   "source": [
    "1. Why are functions advantageous to have in your programs?"
   ]
  },
  {
   "cell_type": "markdown",
   "id": "c92927b5",
   "metadata": {},
   "source": [
    "Ans : Functions reduce the need for duplicate code. This makes programs shorter, easier to read, and easier to update."
   ]
  },
  {
   "cell_type": "markdown",
   "id": "28c2d239",
   "metadata": {},
   "source": [
    "2. When does the code in a function run: when it&#39;s specified or when it&#39;s called?"
   ]
  },
  {
   "cell_type": "markdown",
   "id": "c004777c",
   "metadata": {},
   "source": [
    "Ans : The code in a function executes when the function is called, not when the function is defined."
   ]
  },
  {
   "cell_type": "markdown",
   "id": "b8dc67f9",
   "metadata": {},
   "source": [
    "3. What statement creates a function?"
   ]
  },
  {
   "cell_type": "markdown",
   "id": "cf7f8884",
   "metadata": {},
   "source": [
    "Ans : The ' def ' statement defines a function."
   ]
  },
  {
   "cell_type": "markdown",
   "id": "582590d3",
   "metadata": {},
   "source": [
    "4. What is the difference between a function and a function call?"
   ]
  },
  {
   "cell_type": "markdown",
   "id": "fdec6119",
   "metadata": {},
   "source": [
    "Ans : A function consists of the ' def ' statement and the code in its ' def ' clause.\n",
    "<br>\n",
    "A function call is what moves the program execution into the function, and the function call evaluates to the function’s return value."
   ]
  },
  {
   "cell_type": "markdown",
   "id": "b5fda46b",
   "metadata": {},
   "source": [
    "5. How many global scopes are there in a Python program? How many local scopes?"
   ]
  },
  {
   "cell_type": "markdown",
   "id": "de16497d",
   "metadata": {},
   "source": [
    "Ans : There is one global scope, and a local scope is created whenever a function is called."
   ]
  },
  {
   "cell_type": "markdown",
   "id": "fa4391e6",
   "metadata": {},
   "source": [
    "6. What happens to variables in a local scope when the function call returns?"
   ]
  },
  {
   "cell_type": "markdown",
   "id": "3f2377f8",
   "metadata": {},
   "source": [
    "Ans : When a function returns, the local scope is destroyed, and all the variables in it are forgotten."
   ]
  },
  {
   "cell_type": "markdown",
   "id": "82fe1f2c",
   "metadata": {},
   "source": [
    "7. What is the concept of a return value? Is it possible to have a return value in an expression?"
   ]
  },
  {
   "cell_type": "markdown",
   "id": "16d8a954",
   "metadata": {},
   "source": [
    "Ans : A return value is the value that a function call evaluates. Like any value, a return value can be used as part of an expression."
   ]
  },
  {
   "cell_type": "markdown",
   "id": "ecc0c373",
   "metadata": {},
   "source": [
    "8. If a function does not have a return statement, what is the return value of a call to that function?"
   ]
  },
  {
   "cell_type": "markdown",
   "id": "93d98eb1",
   "metadata": {},
   "source": [
    "Ans : If there is no return statement for a function, its return value is Nothing."
   ]
  },
  {
   "cell_type": "markdown",
   "id": "0a22d359",
   "metadata": {},
   "source": [
    "9. How do you make a function variable refer to the global variable?"
   ]
  },
  {
   "cell_type": "markdown",
   "id": "fb7ced53",
   "metadata": {},
   "source": [
    "Ans : A global statement will force a variable in a function to refer to the global variable."
   ]
  },
  {
   "cell_type": "markdown",
   "id": "c78c7cdd",
   "metadata": {},
   "source": [
    "10. What is the data type of None?"
   ]
  },
  {
   "cell_type": "markdown",
   "id": "df7f229c",
   "metadata": {},
   "source": [
    "Ans : The data type of None is NoneType."
   ]
  },
  {
   "cell_type": "markdown",
   "id": "fb10e972",
   "metadata": {},
   "source": [
    "11. What does the sentence import areallyourpetsnamederic do?"
   ]
  },
  {
   "cell_type": "markdown",
   "id": "7491880e",
   "metadata": {},
   "source": [
    "Ans : That import statement imports a module named areallyourpetsnamederic.It's not a real Python module."
   ]
  },
  {
   "cell_type": "markdown",
   "id": "dc8bbf70",
   "metadata": {},
   "source": [
    "12. If you had a bacon() feature in a spam module, what would you call it after importing spam?"
   ]
  },
  {
   "cell_type": "markdown",
   "id": "81a11bc4",
   "metadata": {},
   "source": [
    "Ans :\n",
    "<br>\n",
    "spam.bacon()"
   ]
  },
  {
   "cell_type": "markdown",
   "id": "397aea61",
   "metadata": {},
   "source": [
    "13. What can you do to save a programme from crashing if it encounters an error?"
   ]
  },
  {
   "cell_type": "markdown",
   "id": "2d9b3ee0",
   "metadata": {},
   "source": [
    "Ans : That might cause an error in a ' try ' clause"
   ]
  },
  {
   "cell_type": "markdown",
   "id": "573ed96a",
   "metadata": {},
   "source": [
    "14. What is the purpose of the try clause? What is the purpose of the except clause?"
   ]
  },
  {
   "cell_type": "markdown",
   "id": "4283c280",
   "metadata": {},
   "source": [
    "Ans : The code that could potentially cause an error goes in the try clause.The code that executes if an error happens goes in the except clause."
   ]
  },
  {
   "cell_type": "code",
   "execution_count": null,
   "id": "1877a52e",
   "metadata": {},
   "outputs": [],
   "source": []
  }
 ],
 "metadata": {
  "kernelspec": {
   "display_name": "Python 3 (ipykernel)",
   "language": "python",
   "name": "python3"
  },
  "language_info": {
   "codemirror_mode": {
    "name": "ipython",
    "version": 3
   },
   "file_extension": ".py",
   "mimetype": "text/x-python",
   "name": "python",
   "nbconvert_exporter": "python",
   "pygments_lexer": "ipython3",
   "version": "3.9.12"
  }
 },
 "nbformat": 4,
 "nbformat_minor": 5
}
