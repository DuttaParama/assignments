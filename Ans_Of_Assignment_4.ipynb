{
 "cells": [
  {
   "cell_type": "markdown",
   "id": "42f1bcb0",
   "metadata": {},
   "source": [
    "1. What exactly is []?"
   ]
  },
  {
   "cell_type": "markdown",
   "id": "890abe66",
   "metadata": {},
   "source": [
    "Ans : The empty list value, which is a list value that contains no items. This is similar to how  ' '  is the empty string value."
   ]
  },
  {
   "cell_type": "markdown",
   "id": "d669d082",
   "metadata": {},
   "source": [
    "2. In a list of values stored in a variable called spam, how would you assign the value 'hello' as the third value? (Assume [2, 4, 6, 8, 10] are in spam.)"
   ]
  },
  {
   "cell_type": "code",
   "execution_count": 1,
   "id": "05a64bd4",
   "metadata": {},
   "outputs": [],
   "source": [
    "spam =  [2, 4, 6, 8, 10]\n",
    "spam[2] = 'hello'"
   ]
  },
  {
   "cell_type": "code",
   "execution_count": 2,
   "id": "111144db",
   "metadata": {},
   "outputs": [
    {
     "data": {
      "text/plain": [
       "[2, 4, 'hello', 8, 10]"
      ]
     },
     "execution_count": 2,
     "metadata": {},
     "output_type": "execute_result"
    }
   ],
   "source": [
    "spam"
   ]
  },
  {
   "cell_type": "markdown",
   "id": "0fc05f0b",
   "metadata": {},
   "source": [
    "Let's pretend the spam includes the list ['a', 'b', 'c', 'd'] for the next three queries.\n",
    "<br>\n",
    "3. What is the value of spam[int(int('3' * 2) / 11)]?\n",
    "<br>\n",
    "4. What is the value of spam[-1]?\n",
    "<br>\n",
    "5. What is the value of spam[:2]?"
   ]
  },
  {
   "cell_type": "markdown",
   "id": "4ea50390",
   "metadata": {},
   "source": [
    "Ans of questions 3 , 4 and 5"
   ]
  },
  {
   "cell_type": "code",
   "execution_count": 3,
   "id": "b12a63ef",
   "metadata": {},
   "outputs": [
    {
     "data": {
      "text/plain": [
       "'d'"
      ]
     },
     "execution_count": 3,
     "metadata": {},
     "output_type": "execute_result"
    }
   ],
   "source": [
    "spam = ['a', 'b', 'c', 'd']\n",
    "spam[int(int('3' * 2) / 11)]"
   ]
  },
  {
   "cell_type": "code",
   "execution_count": 4,
   "id": "22657456",
   "metadata": {},
   "outputs": [
    {
     "data": {
      "text/plain": [
       "'d'"
      ]
     },
     "execution_count": 4,
     "metadata": {},
     "output_type": "execute_result"
    }
   ],
   "source": [
    "spam[-1]"
   ]
  },
  {
   "cell_type": "code",
   "execution_count": 5,
   "id": "6d586539",
   "metadata": {},
   "outputs": [
    {
     "data": {
      "text/plain": [
       "['a', 'b']"
      ]
     },
     "execution_count": 5,
     "metadata": {},
     "output_type": "execute_result"
    }
   ],
   "source": [
    "spam[:2]"
   ]
  },
  {
   "cell_type": "markdown",
   "id": "dfab81d0",
   "metadata": {},
   "source": [
    "Let's pretend bacon has the list [3.14, 'cat,' 11, 'cat,' True] for the next three questions.\n",
    "<br>\n",
    "6. What is the value of bacon.index('cat')?\n",
    "<br>\n",
    "7. How does bacon.append(99) change the look of the list value in bacon?\n",
    "<br>\n",
    "8. How does bacon.remove('cat') change the look of the list in bacon?"
   ]
  },
  {
   "cell_type": "markdown",
   "id": "f0191f8d",
   "metadata": {},
   "source": [
    "Ans of questions 6,7 and 8"
   ]
  },
  {
   "cell_type": "code",
   "execution_count": 6,
   "id": "a62ee060",
   "metadata": {},
   "outputs": [],
   "source": [
    "bacon = [3.14, 'cat', 11, 'cat', True]"
   ]
  },
  {
   "cell_type": "markdown",
   "id": "0fb5f272",
   "metadata": {},
   "source": [
    "Ans of 6"
   ]
  },
  {
   "cell_type": "code",
   "execution_count": 7,
   "id": "c35deb1a",
   "metadata": {},
   "outputs": [
    {
     "data": {
      "text/plain": [
       "1"
      ]
     },
     "execution_count": 7,
     "metadata": {},
     "output_type": "execute_result"
    }
   ],
   "source": [
    "bacon.index('cat')"
   ]
  },
  {
   "cell_type": "markdown",
   "id": "840c225d",
   "metadata": {},
   "source": [
    "Ans of 7"
   ]
  },
  {
   "cell_type": "code",
   "execution_count": 8,
   "id": "79baa846",
   "metadata": {},
   "outputs": [],
   "source": [
    "bacon.append(99)"
   ]
  },
  {
   "cell_type": "code",
   "execution_count": 9,
   "id": "4544d03d",
   "metadata": {},
   "outputs": [
    {
     "data": {
      "text/plain": [
       "[3.14, 'cat', 11, 'cat', True, 99]"
      ]
     },
     "execution_count": 9,
     "metadata": {},
     "output_type": "execute_result"
    }
   ],
   "source": [
    "bacon"
   ]
  },
  {
   "cell_type": "markdown",
   "id": "23158357",
   "metadata": {},
   "source": [
    "Ans of 8"
   ]
  },
  {
   "cell_type": "code",
   "execution_count": 10,
   "id": "5ce53303",
   "metadata": {},
   "outputs": [],
   "source": [
    "bacon.remove('cat')"
   ]
  },
  {
   "cell_type": "code",
   "execution_count": 11,
   "id": "8ba88fd1",
   "metadata": {},
   "outputs": [
    {
     "data": {
      "text/plain": [
       "[3.14, 11, 'cat', True, 99]"
      ]
     },
     "execution_count": 11,
     "metadata": {},
     "output_type": "execute_result"
    }
   ],
   "source": [
    "bacon"
   ]
  },
  {
   "cell_type": "markdown",
   "id": "ef2d4751",
   "metadata": {},
   "source": [
    "9. What are the list concatenation and list replication operators?"
   ]
  },
  {
   "cell_type": "markdown",
   "id": "770084d4",
   "metadata": {},
   "source": [
    "Ans : The operator for list concatenation is +, while the operator for replication is * ."
   ]
  },
  {
   "cell_type": "markdown",
   "id": "0445c63e",
   "metadata": {},
   "source": [
    "10. What is difference between the list methods append() and insert()?"
   ]
  },
  {
   "cell_type": "markdown",
   "id": "a1e20e7d",
   "metadata": {},
   "source": [
    "Ans : While append() will add values only to the end of a list, insert() can add them anywhere in the list."
   ]
  },
  {
   "cell_type": "markdown",
   "id": "603ae861",
   "metadata": {},
   "source": [
    "11. What are the two methods for removing items from a list?"
   ]
  },
  {
   "cell_type": "markdown",
   "id": "18871406",
   "metadata": {},
   "source": [
    "Ans : The ' del ' statement and the ' remove() ' list method are two ways to remove values from a list."
   ]
  },
  {
   "cell_type": "markdown",
   "id": "5e36a6c6",
   "metadata": {},
   "source": [
    "12. Describe how list values and string values are identical."
   ]
  },
  {
   "cell_type": "markdown",
   "id": "ffd05c36",
   "metadata": {},
   "source": [
    "Ans : Both lists and strings can be passed to ' len() ', have indexes and slices, be used in for loops, be concatenated or replicated, and be used with the in and not in operators."
   ]
  },
  {
   "cell_type": "markdown",
   "id": "2f6b1fa7",
   "metadata": {},
   "source": [
    "13. What's the difference between tuples and lists?"
   ]
  },
  {
   "cell_type": "markdown",
   "id": "66496632",
   "metadata": {},
   "source": [
    "Ans : Lists are mutable; they can have values added, removed, or changed. Tuples are immutable; they cannot be changed at all. Also, tuples are written using parentheses, ( and ), while lists use the square brackets, [ and ]."
   ]
  },
  {
   "cell_type": "markdown",
   "id": "fc359dab",
   "metadata": {},
   "source": [
    "14. How do you type a tuple value that only contains the integer 42?"
   ]
  },
  {
   "cell_type": "markdown",
   "id": "8b739d0a",
   "metadata": {},
   "source": [
    "Ans : (42)"
   ]
  },
  {
   "cell_type": "markdown",
   "id": "ec7526e5",
   "metadata": {},
   "source": [
    "15. How do you get a list value's tuple form? How do you get a tuple value's list form?"
   ]
  },
  {
   "cell_type": "markdown",
   "id": "de9cae72",
   "metadata": {},
   "source": [
    "Ans : list() and tuple() functions, respectively"
   ]
  },
  {
   "cell_type": "markdown",
   "id": "2092fc30",
   "metadata": {},
   "source": [
    "16. Variables that \"contain\" list values are not necessarily lists themselves. Instead, what do they contain?"
   ]
  },
  {
   "cell_type": "markdown",
   "id": "1ec473b0",
   "metadata": {},
   "source": [
    "Ans : They contain references to list values."
   ]
  },
  {
   "cell_type": "markdown",
   "id": "a59f281b",
   "metadata": {},
   "source": [
    "17. How do you distinguish between copy.copy() and copy.deepcopy()?"
   ]
  },
  {
   "cell_type": "markdown",
   "id": "356c3805",
   "metadata": {},
   "source": [
    "Ans : The copy.copy() function will do a shallow copy of a list, while the\n",
    "<br>\n",
    "copy.deepcopy() function will do a deep copy of a list. That is, only \n",
    "<br>\n",
    "copy.deepcopy() will duplicate any lists inside the list."
   ]
  },
  {
   "cell_type": "code",
   "execution_count": null,
   "id": "47a3307b",
   "metadata": {},
   "outputs": [],
   "source": []
  }
 ],
 "metadata": {
  "kernelspec": {
   "display_name": "Python 3 (ipykernel)",
   "language": "python",
   "name": "python3"
  },
  "language_info": {
   "codemirror_mode": {
    "name": "ipython",
    "version": 3
   },
   "file_extension": ".py",
   "mimetype": "text/x-python",
   "name": "python",
   "nbconvert_exporter": "python",
   "pygments_lexer": "ipython3",
   "version": "3.9.12"
  }
 },
 "nbformat": 4,
 "nbformat_minor": 5
}
